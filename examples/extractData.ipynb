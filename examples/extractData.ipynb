{
 "cells": [
  {
   "cell_type": "code",
   "execution_count": 52,
   "metadata": {},
   "outputs": [],
   "source": [
    "# Improting Libraries\n",
    "import base64 \n",
    "import requests\n",
    "import json\n",
    "from pprint import pprint\n",
    "\n",
    "# Loading the example audio file\n",
    "with open(\"example.wav\", \"rb\") as audio_file:\n",
    "    \n",
    "    # Encode the audio file into base64 string\n",
    "    base64_string = base64.b64encode(audio_file.read()).decode(\"utf-8\")"
   ]
  },
  {
   "cell_type": "code",
   "execution_count": 53,
   "metadata": {},
   "outputs": [],
   "source": [
    "# The API endpoint\n",
    "url = \"http://localhost:3000/api/execute/08f1e0b5-53ef-4834-9b3a-7c6fe4578c0f\"\n",
    "\n",
    "# The payload for the POST request\n",
    "payload = json.dumps({\n",
    "  \"data\": [\n",
    "  {\n",
    "      \"id\": \"AudioInputNode-12\",\n",
    "      \"data\": {\"audio\" : base64_string}\n",
    "  } \n",
    "]\n",
    "  })\n",
    "headers = {\n",
    "  'Content-Type': 'application/json'\n",
    "  }\n",
    "\n",
    "\n",
    "# Sending the POST request\n",
    "response = requests.request(\"POST\", url, headers=headers, data=payload)\n"
   ]
  },
  {
   "cell_type": "code",
   "execution_count": 54,
   "metadata": {},
   "outputs": [
    {
     "name": "stdout",
     "output_type": "stream",
     "text": [
      "<Response [200]>\n"
     ]
    }
   ],
   "source": [
    "print(response)"
   ]
  },
  {
   "cell_type": "code",
   "execution_count": 55,
   "metadata": {},
   "outputs": [
    {
     "name": "stdout",
     "output_type": "stream",
     "text": [
      "('{\"type\":\"success\",\"data\":[{\"id\":\"TextOutputNode-1\",\"data\":{\"text\":\"Hello, my '\n",
      " 'name is Dave and I am stranded in the middle of Amazon rainforest with no '\n",
      " 'food and '\n",
      " 'water\",\"image\":null,\"executionTime\":2175},\"type\":\"TextOutputNode\"},{\"id\":\"TextOutputNode-17\",\"data\":{\"text\":\"Dave  '\n",
      " 'is  the  name  of  the  person  in  the  '\n",
      " 'message.\\\\n\\\\n\",\"image\":null,\"executionTime\":4388},\"type\":\"TextOutputNode\"},{\"id\":\"TextOutputNode-18\",\"data\":{\"text\":\"Hello,  '\n",
      " 'my  name  is  Dave.  I  am  messaging  you  from  the  Amazon  Rain  '\n",
      " 'Forest,  located  on  the  South  American  continent.  I  got  lost  last  '\n",
      " 'week  while  hiking;  this  is  the  third  day  without  food  or  water.  '\n",
      " 'All  attempts  to  find  help  has  been  fruitless  thus  far.  The  '\n",
      " 'weather  has  also  turned  severely  cold  lately.  Please  feel  free  to  '\n",
      " 'reply  via  video  call  if  you  can  at  all  assist  me.  Thank  '\n",
      " 'you!\\\\n\\\\n\",\"image\":null,\"executionTime\":11789},\"type\":\"TextOutputNode\"},{\"id\":\"TextOutputNode-19\",\"data\":{\"text\":\"The  '\n",
      " 'person  in  the  video,  Dave,  says  he  is  stranded  in  the  middle  of  '\n",
      " 'the  Amazon  Rainforest  with  no  food  or  water.  He  asks  listeners  '\n",
      " 'to  send  help  because  his  emergency  signal  was  spotted  by  '\n",
      " 'satellite  while  he  was  in  this  dangerous  '\n",
      " 'situation.\\\\n\\\\n\",\"image\":null,\"executionTime\":7220},\"type\":\"TextOutputNode\"}]}')\n"
     ]
    }
   ],
   "source": [
    "pprint(response.text)"
   ]
  },
  {
   "cell_type": "code",
   "execution_count": null,
   "metadata": {},
   "outputs": [],
   "source": []
  }
 ],
 "metadata": {
  "kernelspec": {
   "display_name": "Python 3",
   "language": "python",
   "name": "python3"
  },
  "language_info": {
   "codemirror_mode": {
    "name": "ipython",
    "version": 3
   },
   "file_extension": ".py",
   "mimetype": "text/x-python",
   "name": "python",
   "nbconvert_exporter": "python",
   "pygments_lexer": "ipython3",
   "version": "3.10.11"
  },
  "orig_nbformat": 4
 },
 "nbformat": 4,
 "nbformat_minor": 2
}
