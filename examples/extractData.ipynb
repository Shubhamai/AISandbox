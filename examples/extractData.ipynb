{
 "cells": [
  {
   "cell_type": "code",
   "execution_count": 8,
   "metadata": {},
   "outputs": [
    {
     "name": "stdout",
     "output_type": "stream",
     "text": [
      "{\"type\":\"success\",\"data\":[{\"id\":\"3\",\"data\":{\"text\":\"Hello! Are you asking for information about the world's tallest tower? If so, the title currently belongs to the Burj Khalifa in Dubai, which stands at a staggering height of 828 meters (2,716 feet).\",\"image\":null},\"type\":\"TextOutputNode\"}]}\n"
     ]
    }
   ],
   "source": [
    "import requests\n",
    "import json\n",
    "\n",
    "url = \"http://localhost:3000/api/rdr/1c909ff0-eee2-45af-ab13-0bc79ee72e6d\"\n",
    "\n",
    "payload = json.dumps({\n",
    "  \"data\": [\n",
    "    {\n",
    "      \"id\": \"1\",\n",
    "      \"data\": {\n",
    "        \"text\": \"hello, tallest tower?\"\n",
    "      }\n",
    "    }\n",
    "  ]\n",
    "})\n",
    "headers = {\n",
    "  'Content-Type': 'application/json'\n",
    "}\n",
    "\n",
    "response = requests.request(\"POST\", url, headers=headers, data=payload)\n",
    "\n",
    "print(response.text)\n"
   ]
  },
  {
   "cell_type": "code",
   "execution_count": null,
   "metadata": {},
   "outputs": [],
   "source": []
  }
 ],
 "metadata": {
  "kernelspec": {
   "display_name": "Python 3",
   "language": "python",
   "name": "python3"
  },
  "language_info": {
   "codemirror_mode": {
    "name": "ipython",
    "version": 3
   },
   "file_extension": ".py",
   "mimetype": "text/x-python",
   "name": "python",
   "nbconvert_exporter": "python",
   "pygments_lexer": "ipython3",
   "version": "3.10.11"
  },
  "orig_nbformat": 4
 },
 "nbformat": 4,
 "nbformat_minor": 2
}
